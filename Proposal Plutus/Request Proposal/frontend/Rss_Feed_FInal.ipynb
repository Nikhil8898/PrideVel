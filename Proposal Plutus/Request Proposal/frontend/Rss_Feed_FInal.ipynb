{
 "cells": [
  {
   "cell_type": "code",
   "execution_count": 61,
   "id": "65aa57a5",
   "metadata": {},
   "outputs": [],
   "source": [
    "# pip install pymongo\n",
    "# pip install pandas\n"
   ]
  },
  {
   "cell_type": "code",
   "execution_count": 62,
   "id": "d8c26066",
   "metadata": {},
   "outputs": [],
   "source": [
    "import pymongo as pym\n",
    "import pandas as pd;\n",
    "import requests;\n",
    "from bs4 import BeautifulSoup;\n",
    "# from bs4 import BeautifulSoup as bs\n",
    "import urllib.request, urllib.parse, urllib.error"
   ]
  },
  {
   "cell_type": "code",
   "execution_count": 63,
   "id": "02eeee8e",
   "metadata": {},
   "outputs": [],
   "source": [
    "URL=[\"https://www.coindesk.com/arc/outboundfeeds/rss/?outputType=xml\",\"https://blockchain.news/RSS/\",\"https://news.bitcoin.com/feed/\"]"
   ]
  },
  {
   "cell_type": "code",
   "execution_count": 64,
   "id": "27d8a34a",
   "metadata": {},
   "outputs": [
    {
     "ename": "FeatureNotFound",
     "evalue": "Couldn't find a tree builder with the features you requested: xml. Do you need to install a parser library?",
     "output_type": "error",
     "traceback": [
      "\u001b[0;31m---------------------------------------------------------------------------\u001b[0m",
      "\u001b[0;31mFeatureNotFound\u001b[0m                           Traceback (most recent call last)",
      "Input \u001b[0;32mIn [64]\u001b[0m, in \u001b[0;36m<module>\u001b[0;34m\u001b[0m\n\u001b[1;32m      3\u001b[0m resp\u001b[38;5;241m=\u001b[39mrequests\u001b[38;5;241m.\u001b[39mget(URL[url])\n\u001b[1;32m      4\u001b[0m \u001b[38;5;66;03m# soup = bs(resp.text, 'html.parser')\u001b[39;00m\n\u001b[0;32m----> 5\u001b[0m soup\u001b[38;5;241m=\u001b[39m\u001b[43mBeautifulSoup\u001b[49m\u001b[43m(\u001b[49m\u001b[43mresp\u001b[49m\u001b[38;5;241;43m.\u001b[39;49m\u001b[43mcontent\u001b[49m\u001b[43m,\u001b[49m\u001b[43mfeatures\u001b[49m\u001b[38;5;241;43m=\u001b[39;49m\u001b[38;5;124;43m'\u001b[39;49m\u001b[38;5;124;43mxml\u001b[39;49m\u001b[38;5;124;43m'\u001b[39;49m\u001b[43m)\u001b[49m\n\u001b[1;32m      6\u001b[0m news \u001b[38;5;241m=\u001b[39m []\n\u001b[1;32m      7\u001b[0m items\u001b[38;5;241m=\u001b[39msoup\u001b[38;5;241m.\u001b[39mfindAll(\u001b[38;5;124m'\u001b[39m\u001b[38;5;124mitem\u001b[39m\u001b[38;5;124m'\u001b[39m)\n",
      "File \u001b[0;32m/Library/Frameworks/Python.framework/Versions/3.10/lib/python3.10/site-packages/bs4/__init__.py:245\u001b[0m, in \u001b[0;36mBeautifulSoup.__init__\u001b[0;34m(self, markup, features, builder, parse_only, from_encoding, exclude_encodings, element_classes, **kwargs)\u001b[0m\n\u001b[1;32m    243\u001b[0m     builder_class \u001b[38;5;241m=\u001b[39m builder_registry\u001b[38;5;241m.\u001b[39mlookup(\u001b[38;5;241m*\u001b[39mfeatures)\n\u001b[1;32m    244\u001b[0m     \u001b[38;5;28;01mif\u001b[39;00m builder_class \u001b[38;5;129;01mis\u001b[39;00m \u001b[38;5;28;01mNone\u001b[39;00m:\n\u001b[0;32m--> 245\u001b[0m         \u001b[38;5;28;01mraise\u001b[39;00m FeatureNotFound(\n\u001b[1;32m    246\u001b[0m             \u001b[38;5;124m\"\u001b[39m\u001b[38;5;124mCouldn\u001b[39m\u001b[38;5;124m'\u001b[39m\u001b[38;5;124mt find a tree builder with the features you \u001b[39m\u001b[38;5;124m\"\u001b[39m\n\u001b[1;32m    247\u001b[0m             \u001b[38;5;124m\"\u001b[39m\u001b[38;5;124mrequested: \u001b[39m\u001b[38;5;132;01m%s\u001b[39;00m\u001b[38;5;124m. Do you need to install a parser library?\u001b[39m\u001b[38;5;124m\"\u001b[39m\n\u001b[1;32m    248\u001b[0m             \u001b[38;5;241m%\u001b[39m \u001b[38;5;124m\"\u001b[39m\u001b[38;5;124m,\u001b[39m\u001b[38;5;124m\"\u001b[39m\u001b[38;5;241m.\u001b[39mjoin(features))\n\u001b[1;32m    250\u001b[0m \u001b[38;5;66;03m# At this point either we have a TreeBuilder instance in\u001b[39;00m\n\u001b[1;32m    251\u001b[0m \u001b[38;5;66;03m# builder, or we have a builder_class that we can instantiate\u001b[39;00m\n\u001b[1;32m    252\u001b[0m \u001b[38;5;66;03m# with the remaining **kwargs.\u001b[39;00m\n\u001b[1;32m    253\u001b[0m \u001b[38;5;28;01mif\u001b[39;00m builder \u001b[38;5;129;01mis\u001b[39;00m \u001b[38;5;28;01mNone\u001b[39;00m:\n",
      "\u001b[0;31mFeatureNotFound\u001b[0m: Couldn't find a tree builder with the features you requested: xml. Do you need to install a parser library?"
     ]
    }
   ],
   "source": [
    "x=range(3)\n",
    "for url in x:\n",
    "    resp=requests.get(URL[url])\n",
    "    # soup = bs(resp.text, 'html.parser')\n",
    "    soup=BeautifulSoup(resp.content,features='xml')\n",
    "    news = []\n",
    "    items=soup.findAll('item')\n",
    "    for item in items:\n",
    "        news_item={}\n",
    "        news_item['Title']=item.title.text\n",
    "        news_item['Link']=item.link.text\n",
    "        news_item['Description']=item.description.text\n",
    "        news_item['PubDate']=item.pubDate.text\n",
    "        #news_item['Category']=item.category.text\n",
    "        news.append(news_item)\n",
    "    df = pd.DataFrame(news)\n",
    "#     df.head(26)\n",
    "    #Making Connection with mongodb\n",
    "    client = pym.MongoClient('mongodb://localhost:27017/')\n",
    "    #creating db\n",
    "    db = client[\"Rss_Feed\"]\n",
    "    #creating tables\n",
    "    rss_feeds_table = db[\"Rss_Feed_Info\"]\n",
    "#     # Create Dict() to send to MongoDB\n",
    "    rss_feed_dict = df.to_dict('record')\n",
    "    rss_feeds_table.insert_many(rss_feed_dict)\n",
    "\n",
    "\n",
    "\n",
    "\n",
    "\n",
    "\n"
   ]
  },
  {
   "cell_type": "code",
   "execution_count": null,
   "id": "27532112",
   "metadata": {},
   "outputs": [],
   "source": [
    "    "
   ]
  },
  {
   "cell_type": "code",
   "execution_count": null,
   "id": "0bc9f9d5",
   "metadata": {},
   "outputs": [],
   "source": []
  }
 ],
 "metadata": {
  "kernelspec": {
   "display_name": "Python 3 (ipykernel)",
   "language": "python",
   "name": "python3"
  },
  "language_info": {
   "codemirror_mode": {
    "name": "ipython",
    "version": 3
   },
   "file_extension": ".py",
   "mimetype": "text/x-python",
   "name": "python",
   "nbconvert_exporter": "python",
   "pygments_lexer": "ipython3",
   "version": "3.9.0"
  }
 },
 "nbformat": 4,
 "nbformat_minor": 5
}
